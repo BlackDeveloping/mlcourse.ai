{
 "cells": [
  {
   "cell_type": "markdown",
   "metadata": {},
   "source": [
    "<center>\n",
    "<img src=\"https://habrastorage.org/webt/ia/m9/zk/iam9zkyzqebnf_okxipihkgjwnw.jpeg\">\n",
    "     \n",
    "## <center>  [mlcourse.ai](https://mlcourse.ai) – Open Machine Learning Course \n",
    "\n",
    "#### <center> Author: [Yury Kashnitsky](https://yorko.github.io) (@yorko) \n",
    "\n",
    "# <center>Assignment #2. Fall 2019. Solution\n",
    "## <center> Part 2. Gradient boosting"
   ]
  },
  {
   "cell_type": "markdown",
   "metadata": {},
   "source": [
    "Beating benchmarks in [this competition](https://www.kaggle.com/c/flight-delays-fall-2018/overview)."
   ]
  },
  {
   "cell_type": "code",
   "execution_count": 17,
   "metadata": {
    "ExecuteTime": {
     "end_time": "2019-11-12T15:16:02.976139Z",
     "start_time": "2019-11-12T15:16:02.971143Z"
    }
   },
   "outputs": [],
   "source": [
    "import numpy as np\n",
    "import pandas as pd\n",
    "from pathlib import Path\n",
    "from tqdm import tqdm\n",
    "from sklearn.model_selection import train_test_split\n",
    "from sklearn.metrics import roc_auc_score\n",
    "from catboost import CatBoostClassifier"
   ]
  },
  {
   "cell_type": "markdown",
   "metadata": {},
   "source": [
    "# **Read the data**"
   ]
  },
  {
   "cell_type": "code",
   "execution_count": null,
   "metadata": {},
   "outputs": [],
   "source": []
  },
  {
   "cell_type": "code",
   "execution_count": null,
   "metadata": {},
   "outputs": [],
   "source": []
  },
  {
   "cell_type": "code",
   "execution_count": 18,
   "metadata": {
    "ExecuteTime": {
     "end_time": "2019-11-12T15:16:09.959019Z",
     "start_time": "2019-11-12T15:16:09.955259Z"
    }
   },
   "outputs": [],
   "source": [
    "PATH_TO_DATA = Path('../input/flight-delays-fall-2018/')"
   ]
  },
  {
   "cell_type": "code",
   "execution_count": 3,
   "metadata": {
    "ExecuteTime": {
     "end_time": "2019-11-12T14:56:51.937754Z",
     "start_time": "2019-11-12T14:56:51.746735Z"
    }
   },
   "outputs": [],
   "source": [
    "train_df = pd.read_csv(PATH_TO_DATA / 'flight_delays_train.csv')"
   ]
  },
  {
   "cell_type": "code",
   "execution_count": 4,
   "metadata": {
    "ExecuteTime": {
     "end_time": "2019-11-12T14:56:52.008752Z",
     "start_time": "2019-11-12T14:56:51.996750Z"
    }
   },
   "outputs": [
    {
     "data": {
      "text/plain": [
       "(100000, 9)"
      ]
     },
     "execution_count": 4,
     "metadata": {},
     "output_type": "execute_result"
    }
   ],
   "source": [
    "train_df.shape"
   ]
  },
  {
   "cell_type": "code",
   "execution_count": 5,
   "metadata": {
    "ExecuteTime": {
     "end_time": "2019-11-12T14:56:57.103901Z",
     "start_time": "2019-11-12T14:56:57.085898Z"
    }
   },
   "outputs": [
    {
     "data": {
      "text/html": [
       "<div>\n",
       "<style scoped>\n",
       "    .dataframe tbody tr th:only-of-type {\n",
       "        vertical-align: middle;\n",
       "    }\n",
       "\n",
       "    .dataframe tbody tr th {\n",
       "        vertical-align: top;\n",
       "    }\n",
       "\n",
       "    .dataframe thead th {\n",
       "        text-align: right;\n",
       "    }\n",
       "</style>\n",
       "<table border=\"1\" class=\"dataframe\">\n",
       "  <thead>\n",
       "    <tr style=\"text-align: right;\">\n",
       "      <th></th>\n",
       "      <th>Month</th>\n",
       "      <th>DayofMonth</th>\n",
       "      <th>DayOfWeek</th>\n",
       "      <th>DepTime</th>\n",
       "      <th>UniqueCarrier</th>\n",
       "      <th>Origin</th>\n",
       "      <th>Dest</th>\n",
       "      <th>Distance</th>\n",
       "      <th>dep_delayed_15min</th>\n",
       "    </tr>\n",
       "  </thead>\n",
       "  <tbody>\n",
       "    <tr>\n",
       "      <th>0</th>\n",
       "      <td>c-8</td>\n",
       "      <td>c-21</td>\n",
       "      <td>c-7</td>\n",
       "      <td>1934</td>\n",
       "      <td>AA</td>\n",
       "      <td>ATL</td>\n",
       "      <td>DFW</td>\n",
       "      <td>732</td>\n",
       "      <td>N</td>\n",
       "    </tr>\n",
       "    <tr>\n",
       "      <th>1</th>\n",
       "      <td>c-4</td>\n",
       "      <td>c-20</td>\n",
       "      <td>c-3</td>\n",
       "      <td>1548</td>\n",
       "      <td>US</td>\n",
       "      <td>PIT</td>\n",
       "      <td>MCO</td>\n",
       "      <td>834</td>\n",
       "      <td>N</td>\n",
       "    </tr>\n",
       "    <tr>\n",
       "      <th>2</th>\n",
       "      <td>c-9</td>\n",
       "      <td>c-2</td>\n",
       "      <td>c-5</td>\n",
       "      <td>1422</td>\n",
       "      <td>XE</td>\n",
       "      <td>RDU</td>\n",
       "      <td>CLE</td>\n",
       "      <td>416</td>\n",
       "      <td>N</td>\n",
       "    </tr>\n",
       "    <tr>\n",
       "      <th>3</th>\n",
       "      <td>c-11</td>\n",
       "      <td>c-25</td>\n",
       "      <td>c-6</td>\n",
       "      <td>1015</td>\n",
       "      <td>OO</td>\n",
       "      <td>DEN</td>\n",
       "      <td>MEM</td>\n",
       "      <td>872</td>\n",
       "      <td>N</td>\n",
       "    </tr>\n",
       "    <tr>\n",
       "      <th>4</th>\n",
       "      <td>c-10</td>\n",
       "      <td>c-7</td>\n",
       "      <td>c-6</td>\n",
       "      <td>1828</td>\n",
       "      <td>WN</td>\n",
       "      <td>MDW</td>\n",
       "      <td>OMA</td>\n",
       "      <td>423</td>\n",
       "      <td>Y</td>\n",
       "    </tr>\n",
       "  </tbody>\n",
       "</table>\n",
       "</div>"
      ],
      "text/plain": [
       "  Month DayofMonth DayOfWeek  DepTime UniqueCarrier Origin Dest  Distance  \\\n",
       "0   c-8       c-21       c-7     1934            AA    ATL  DFW       732   \n",
       "1   c-4       c-20       c-3     1548            US    PIT  MCO       834   \n",
       "2   c-9        c-2       c-5     1422            XE    RDU  CLE       416   \n",
       "3  c-11       c-25       c-6     1015            OO    DEN  MEM       872   \n",
       "4  c-10        c-7       c-6     1828            WN    MDW  OMA       423   \n",
       "\n",
       "  dep_delayed_15min  \n",
       "0                 N  \n",
       "1                 N  \n",
       "2                 N  \n",
       "3                 N  \n",
       "4                 Y  "
      ]
     },
     "execution_count": 5,
     "metadata": {},
     "output_type": "execute_result"
    }
   ],
   "source": [
    "train_df.head()"
   ]
  },
  {
   "cell_type": "code",
   "execution_count": 6,
   "metadata": {
    "ExecuteTime": {
     "end_time": "2019-11-12T14:56:58.151934Z",
     "start_time": "2019-11-12T14:56:57.994901Z"
    }
   },
   "outputs": [],
   "source": [
    "test_df = pd.read_csv(PATH_TO_DATA / 'flight_delays_test.csv')"
   ]
  },
  {
   "cell_type": "code",
   "execution_count": 7,
   "metadata": {
    "ExecuteTime": {
     "end_time": "2019-11-12T14:56:59.480966Z",
     "start_time": "2019-11-12T14:56:59.468772Z"
    }
   },
   "outputs": [
    {
     "data": {
      "text/html": [
       "<div>\n",
       "<style scoped>\n",
       "    .dataframe tbody tr th:only-of-type {\n",
       "        vertical-align: middle;\n",
       "    }\n",
       "\n",
       "    .dataframe tbody tr th {\n",
       "        vertical-align: top;\n",
       "    }\n",
       "\n",
       "    .dataframe thead th {\n",
       "        text-align: right;\n",
       "    }\n",
       "</style>\n",
       "<table border=\"1\" class=\"dataframe\">\n",
       "  <thead>\n",
       "    <tr style=\"text-align: right;\">\n",
       "      <th></th>\n",
       "      <th>Month</th>\n",
       "      <th>DayofMonth</th>\n",
       "      <th>DayOfWeek</th>\n",
       "      <th>DepTime</th>\n",
       "      <th>UniqueCarrier</th>\n",
       "      <th>Origin</th>\n",
       "      <th>Dest</th>\n",
       "      <th>Distance</th>\n",
       "    </tr>\n",
       "  </thead>\n",
       "  <tbody>\n",
       "    <tr>\n",
       "      <th>0</th>\n",
       "      <td>c-7</td>\n",
       "      <td>c-25</td>\n",
       "      <td>c-3</td>\n",
       "      <td>615</td>\n",
       "      <td>YV</td>\n",
       "      <td>MRY</td>\n",
       "      <td>PHX</td>\n",
       "      <td>598</td>\n",
       "    </tr>\n",
       "    <tr>\n",
       "      <th>1</th>\n",
       "      <td>c-4</td>\n",
       "      <td>c-17</td>\n",
       "      <td>c-2</td>\n",
       "      <td>739</td>\n",
       "      <td>WN</td>\n",
       "      <td>LAS</td>\n",
       "      <td>HOU</td>\n",
       "      <td>1235</td>\n",
       "    </tr>\n",
       "    <tr>\n",
       "      <th>2</th>\n",
       "      <td>c-12</td>\n",
       "      <td>c-2</td>\n",
       "      <td>c-7</td>\n",
       "      <td>651</td>\n",
       "      <td>MQ</td>\n",
       "      <td>GSP</td>\n",
       "      <td>ORD</td>\n",
       "      <td>577</td>\n",
       "    </tr>\n",
       "    <tr>\n",
       "      <th>3</th>\n",
       "      <td>c-3</td>\n",
       "      <td>c-25</td>\n",
       "      <td>c-7</td>\n",
       "      <td>1614</td>\n",
       "      <td>WN</td>\n",
       "      <td>BWI</td>\n",
       "      <td>MHT</td>\n",
       "      <td>377</td>\n",
       "    </tr>\n",
       "    <tr>\n",
       "      <th>4</th>\n",
       "      <td>c-6</td>\n",
       "      <td>c-6</td>\n",
       "      <td>c-3</td>\n",
       "      <td>1505</td>\n",
       "      <td>UA</td>\n",
       "      <td>ORD</td>\n",
       "      <td>STL</td>\n",
       "      <td>258</td>\n",
       "    </tr>\n",
       "  </tbody>\n",
       "</table>\n",
       "</div>"
      ],
      "text/plain": [
       "  Month DayofMonth DayOfWeek  DepTime UniqueCarrier Origin Dest  Distance\n",
       "0   c-7       c-25       c-3      615            YV    MRY  PHX       598\n",
       "1   c-4       c-17       c-2      739            WN    LAS  HOU      1235\n",
       "2  c-12        c-2       c-7      651            MQ    GSP  ORD       577\n",
       "3   c-3       c-25       c-7     1614            WN    BWI  MHT       377\n",
       "4   c-6        c-6       c-3     1505            UA    ORD  STL       258"
      ]
     },
     "execution_count": 7,
     "metadata": {},
     "output_type": "execute_result"
    }
   ],
   "source": [
    "test_df.head()"
   ]
  },
  {
   "cell_type": "markdown",
   "metadata": {},
   "source": [
    "**Create features**\n",
    "\n",
    "Mostly from [this Kernel](https://www.kaggle.com/rohitgr/lgbm-bayesianoptimization-eda)"
   ]
  },
  {
   "cell_type": "code",
   "execution_count": 8,
   "metadata": {
    "ExecuteTime": {
     "end_time": "2019-11-12T14:57:02.333204Z",
     "start_time": "2019-11-12T14:57:01.684101Z"
    }
   },
   "outputs": [
    {
     "data": {
      "text/plain": [
       "((100000, 16), (100000,), (100000, 16))"
      ]
     },
     "execution_count": 8,
     "metadata": {},
     "output_type": "execute_result"
    }
   ],
   "source": [
    "# flight\n",
    "train_df['flight'] = train_df['Origin'] + '-->' + train_df['Dest']\n",
    "test_df['flight'] = test_df['Origin'] + '-->' + test_df['Dest']\n",
    "\n",
    "# Hour and minute\n",
    "train_df['hour'] = train_df['DepTime'] // 100\n",
    "train_df.loc[train_df['hour'] == 24, 'hour'] = 0\n",
    "train_df.loc[train_df['hour'] == 25, 'hour'] = 1\n",
    "train_df['minute'] = train_df['DepTime'] % 100\n",
    "\n",
    "test_df['hour'] = test_df['DepTime'] // 100\n",
    "test_df.loc[test_df['hour'] == 24, 'hour'] = 0\n",
    "test_df.loc[test_df['hour'] == 25, 'hour'] = 1\n",
    "test_df['minute'] = test_df['DepTime'] % 100\n",
    "\n",
    "# Season\n",
    "train_df['summer'] = (train_df['Month'].isin([6, 7, 8])).astype(np.int32)\n",
    "train_df['autumn'] = (train_df['Month'].isin([9, 10, 11])).astype(np.int32)\n",
    "train_df['winter'] = (train_df['Month'].isin([12, 1, 2])).astype(np.int32)\n",
    "train_df['spring'] = (train_df['Month'].isin([3, 4, 5])).astype(np.int32)\n",
    "\n",
    "test_df['summer'] = (test_df['Month'].isin([6, 7, 8])).astype(np.int32)\n",
    "test_df['autumn'] = (test_df['Month'].isin([9, 10, 11])).astype(np.int32)\n",
    "test_df['winter'] = (test_df['Month'].isin([12, 1, 2])).astype(np.int32)\n",
    "test_df['spring'] = (test_df['Month'].isin([3, 4, 5])).astype(np.int32)\n",
    "\n",
    "# Daytime\n",
    "train_df['daytime'] = pd.cut(train_df['hour'], bins=[0, 6, 12, 18, 23], include_lowest=True)\n",
    "test_df['daytime'] = pd.cut(test_df['hour'], bins=[0, 6, 12, 18, 23], include_lowest=True)\n",
    "\n",
    "# Extract the labels\n",
    "train_y = train_df.pop('dep_delayed_15min')\n",
    "train_y = train_y.map({'N': 0, 'Y': 1})\n",
    "\n",
    "# Concatenate for preprocessing\n",
    "train_split = train_df.shape[0]\n",
    "full_df = pd.concat((train_df, test_df))\n",
    "full_df['Distance'] = np.log(full_df['Distance'])\n",
    "\n",
    "# String to numerical\n",
    "for col in ['Month', 'DayofMonth', 'DayOfWeek']:\n",
    "    full_df[col] = full_df[col].apply(lambda x: x.split('-')[1]).astype(np.int32) - 1\n",
    "\n",
    "# Label Encoding\n",
    "for col in ['Origin', 'Dest', 'UniqueCarrier', 'daytime', 'flight']:\n",
    "    full_df[col] = pd.factorize(full_df[col])[0]\n",
    "\n",
    "# Categorical columns\n",
    "cat_cols = ['Month', 'DayofMonth', 'DayOfWeek', 'Origin', 'Dest', 'UniqueCarrier', \n",
    "            'hour', 'summer', 'autumn', 'winter', 'spring', 'daytime', 'flight']\n",
    "\n",
    "# Converting categorical columns to type 'category' as required by LGBM\n",
    "for c in cat_cols:\n",
    "    full_df[c] = full_df[c].astype('category')\n",
    "\n",
    "# Split into train and test\n",
    "train_df, test_df = full_df.iloc[:train_split], full_df.iloc[train_split:]\n",
    "train_df.shape, train_y.shape, test_df.shape"
   ]
  },
  {
   "cell_type": "markdown",
   "metadata": {},
   "source": [
    "**Remember the indexes of categorical features**"
   ]
  },
  {
   "cell_type": "code",
   "execution_count": 9,
   "metadata": {
    "ExecuteTime": {
     "end_time": "2019-11-12T14:57:03.610910Z",
     "start_time": "2019-11-12T14:57:03.603060Z"
    }
   },
   "outputs": [
    {
     "data": {
      "text/plain": [
       "Month            category\n",
       "DayofMonth       category\n",
       "DayOfWeek        category\n",
       "DepTime             int64\n",
       "UniqueCarrier    category\n",
       "Origin           category\n",
       "Dest             category\n",
       "Distance          float64\n",
       "flight           category\n",
       "hour             category\n",
       "minute              int64\n",
       "summer           category\n",
       "autumn           category\n",
       "winter           category\n",
       "spring           category\n",
       "daytime          category\n",
       "dtype: object"
      ]
     },
     "execution_count": 9,
     "metadata": {},
     "output_type": "execute_result"
    }
   ],
   "source": [
    "train_df.dtypes"
   ]
  },
  {
   "cell_type": "code",
   "execution_count": 10,
   "metadata": {
    "ExecuteTime": {
     "end_time": "2019-11-12T14:57:04.815549Z",
     "start_time": "2019-11-12T14:57:04.810454Z"
    }
   },
   "outputs": [
    {
     "data": {
      "text/plain": [
       "array([ 0,  1,  2,  4,  5,  6,  8,  9, 11, 12, 13, 14, 15], dtype=int64)"
      ]
     },
     "execution_count": 10,
     "metadata": {},
     "output_type": "execute_result"
    }
   ],
   "source": [
    "categ_feat_idx = np.where(train_df.dtypes == 'category')[0]\n",
    "categ_feat_idx"
   ]
  },
  {
   "cell_type": "code",
   "execution_count": 11,
   "metadata": {
    "ExecuteTime": {
     "end_time": "2019-11-12T14:57:06.510228Z",
     "start_time": "2019-11-12T14:57:06.507459Z"
    }
   },
   "outputs": [],
   "source": [
    "from sklearn.model_selection import StratifiedKFold, cross_val_score"
   ]
  },
  {
   "cell_type": "code",
   "execution_count": 12,
   "metadata": {
    "ExecuteTime": {
     "end_time": "2019-11-12T14:57:07.998770Z",
     "start_time": "2019-11-12T14:57:07.994770Z"
    }
   },
   "outputs": [],
   "source": [
    "skf = StratifiedKFold(n_splits=5, shuffle=True, random_state=17)"
   ]
  },
  {
   "cell_type": "code",
   "execution_count": 13,
   "metadata": {
    "ExecuteTime": {
     "end_time": "2019-11-12T14:57:09.478593Z",
     "start_time": "2019-11-12T14:57:09.474591Z"
    }
   },
   "outputs": [],
   "source": [
    "former_feats = ['Month', 'DayofMonth', 'DayOfWeek', 'DepTime', 'UniqueCarrier', \n",
    "                'Origin', 'Dest', 'Distance', 'flight']\n",
    "new_feats = ['hour', 'minute', 'summer', 'autumn', 'winter', 'spring', 'daytime']"
   ]
  },
  {
   "cell_type": "code",
   "execution_count": 14,
   "metadata": {
    "ExecuteTime": {
     "end_time": "2019-11-12T14:57:13.719571Z",
     "start_time": "2019-11-12T14:57:13.715781Z"
    }
   },
   "outputs": [],
   "source": [
    "ctb = CatBoostClassifier(task_type='GPU', random_seed=17, silent=True)"
   ]
  },
  {
   "cell_type": "code",
   "execution_count": 15,
   "metadata": {
    "ExecuteTime": {
     "end_time": "2019-11-12T14:57:23.166820Z",
     "start_time": "2019-11-12T14:57:23.148867Z"
    }
   },
   "outputs": [
    {
     "data": {
      "text/html": [
       "<div>\n",
       "<style scoped>\n",
       "    .dataframe tbody tr th:only-of-type {\n",
       "        vertical-align: middle;\n",
       "    }\n",
       "\n",
       "    .dataframe tbody tr th {\n",
       "        vertical-align: top;\n",
       "    }\n",
       "\n",
       "    .dataframe thead th {\n",
       "        text-align: right;\n",
       "    }\n",
       "</style>\n",
       "<table border=\"1\" class=\"dataframe\">\n",
       "  <thead>\n",
       "    <tr style=\"text-align: right;\">\n",
       "      <th></th>\n",
       "      <th>Month</th>\n",
       "      <th>DayofMonth</th>\n",
       "      <th>DayOfWeek</th>\n",
       "      <th>DepTime</th>\n",
       "      <th>UniqueCarrier</th>\n",
       "      <th>Origin</th>\n",
       "      <th>Dest</th>\n",
       "      <th>Distance</th>\n",
       "      <th>flight</th>\n",
       "      <th>hour</th>\n",
       "      <th>minute</th>\n",
       "      <th>summer</th>\n",
       "      <th>autumn</th>\n",
       "      <th>winter</th>\n",
       "      <th>spring</th>\n",
       "      <th>daytime</th>\n",
       "    </tr>\n",
       "  </thead>\n",
       "  <tbody>\n",
       "    <tr>\n",
       "      <th>0</th>\n",
       "      <td>7</td>\n",
       "      <td>20</td>\n",
       "      <td>6</td>\n",
       "      <td>1934</td>\n",
       "      <td>0</td>\n",
       "      <td>0</td>\n",
       "      <td>0</td>\n",
       "      <td>6.595781</td>\n",
       "      <td>0</td>\n",
       "      <td>19</td>\n",
       "      <td>34</td>\n",
       "      <td>0</td>\n",
       "      <td>0</td>\n",
       "      <td>0</td>\n",
       "      <td>0</td>\n",
       "      <td>0</td>\n",
       "    </tr>\n",
       "    <tr>\n",
       "      <th>1</th>\n",
       "      <td>3</td>\n",
       "      <td>19</td>\n",
       "      <td>2</td>\n",
       "      <td>1548</td>\n",
       "      <td>1</td>\n",
       "      <td>1</td>\n",
       "      <td>1</td>\n",
       "      <td>6.726233</td>\n",
       "      <td>1</td>\n",
       "      <td>15</td>\n",
       "      <td>48</td>\n",
       "      <td>0</td>\n",
       "      <td>0</td>\n",
       "      <td>0</td>\n",
       "      <td>0</td>\n",
       "      <td>1</td>\n",
       "    </tr>\n",
       "    <tr>\n",
       "      <th>2</th>\n",
       "      <td>8</td>\n",
       "      <td>1</td>\n",
       "      <td>4</td>\n",
       "      <td>1422</td>\n",
       "      <td>2</td>\n",
       "      <td>2</td>\n",
       "      <td>2</td>\n",
       "      <td>6.030685</td>\n",
       "      <td>2</td>\n",
       "      <td>14</td>\n",
       "      <td>22</td>\n",
       "      <td>0</td>\n",
       "      <td>0</td>\n",
       "      <td>0</td>\n",
       "      <td>0</td>\n",
       "      <td>1</td>\n",
       "    </tr>\n",
       "    <tr>\n",
       "      <th>3</th>\n",
       "      <td>10</td>\n",
       "      <td>24</td>\n",
       "      <td>5</td>\n",
       "      <td>1015</td>\n",
       "      <td>3</td>\n",
       "      <td>3</td>\n",
       "      <td>3</td>\n",
       "      <td>6.770789</td>\n",
       "      <td>3</td>\n",
       "      <td>10</td>\n",
       "      <td>15</td>\n",
       "      <td>0</td>\n",
       "      <td>0</td>\n",
       "      <td>0</td>\n",
       "      <td>0</td>\n",
       "      <td>2</td>\n",
       "    </tr>\n",
       "    <tr>\n",
       "      <th>4</th>\n",
       "      <td>9</td>\n",
       "      <td>6</td>\n",
       "      <td>5</td>\n",
       "      <td>1828</td>\n",
       "      <td>4</td>\n",
       "      <td>4</td>\n",
       "      <td>4</td>\n",
       "      <td>6.047372</td>\n",
       "      <td>4</td>\n",
       "      <td>18</td>\n",
       "      <td>28</td>\n",
       "      <td>0</td>\n",
       "      <td>0</td>\n",
       "      <td>0</td>\n",
       "      <td>0</td>\n",
       "      <td>1</td>\n",
       "    </tr>\n",
       "  </tbody>\n",
       "</table>\n",
       "</div>"
      ],
      "text/plain": [
       "  Month DayofMonth DayOfWeek  DepTime UniqueCarrier Origin Dest  Distance  \\\n",
       "0     7         20         6     1934             0      0    0  6.595781   \n",
       "1     3         19         2     1548             1      1    1  6.726233   \n",
       "2     8          1         4     1422             2      2    2  6.030685   \n",
       "3    10         24         5     1015             3      3    3  6.770789   \n",
       "4     9          6         5     1828             4      4    4  6.047372   \n",
       "\n",
       "  flight hour  minute summer autumn winter spring daytime  \n",
       "0      0   19      34      0      0      0      0       0  \n",
       "1      1   15      48      0      0      0      0       1  \n",
       "2      2   14      22      0      0      0      0       1  \n",
       "3      3   10      15      0      0      0      0       2  \n",
       "4      4   18      28      0      0      0      0       1  "
      ]
     },
     "execution_count": 15,
     "metadata": {},
     "output_type": "execute_result"
    }
   ],
   "source": [
    "train_df.head()"
   ]
  },
  {
   "cell_type": "code",
   "execution_count": 15,
   "metadata": {},
   "outputs": [
    {
     "name": "stdout",
     "output_type": "stream",
     "text": [
      "Wall time: 8min 39s\n"
     ]
    }
   ],
   "source": [
    "%%time\n",
    "features_to_use = former_feats[:]\n",
    "initial_cv_scores = cross_val_score(ctb, train_df[features_to_use].values, train_y, cv=skf, scoring='roc_auc', \n",
    "                fit_params={'cat_features': np.where(train_df[features_to_use].dtypes == 'category')[0]})\n",
    "initial_cv_scores, initial_cv_scores.mean()"
   ]
  },
  {
   "cell_type": "markdown",
   "metadata": {},
   "source": [
    "**Now we are performing cross-validation addigng features one by one**"
   ]
  },
  {
   "cell_type": "code",
   "execution_count": 16,
   "metadata": {},
   "outputs": [
    {
     "name": "stderr",
     "output_type": "stream",
     "text": [
      "\r",
      "  0%|                                                                                            | 0/7 [00:00<?, ?it/s]"
     ]
    },
    {
     "name": "stdout",
     "output_type": "stream",
     "text": [
      "adding feature hour\n",
      "performing CV with features: ['Month', 'DayofMonth', 'DayOfWeek', 'DepTime', 'UniqueCarrier', 'Origin', 'Dest', 'Distance', 'flight', 'hour']\n",
      "5-fold CV is : 0.7898 +/- 0.0038\n"
     ]
    },
    {
     "name": "stderr",
     "output_type": "stream",
     "text": [
      "\r",
      " 14%|███████████▊                                                                       | 1/7 [06:37<39:47, 397.86s/it]"
     ]
    },
    {
     "name": "stdout",
     "output_type": "stream",
     "text": [
      "adding feature minute\n",
      "performing CV with features: ['Month', 'DayofMonth', 'DayOfWeek', 'DepTime', 'UniqueCarrier', 'Origin', 'Dest', 'Distance', 'flight', 'hour', 'minute']\n",
      "5-fold CV is : 0.822 +/- 0.0071\n"
     ]
    },
    {
     "name": "stderr",
     "output_type": "stream",
     "text": [
      "\r",
      " 29%|███████████████████████▋                                                           | 2/7 [13:13<33:06, 397.29s/it]"
     ]
    },
    {
     "name": "stdout",
     "output_type": "stream",
     "text": [
      "adding feature summer\n",
      "performing CV with features: ['Month', 'DayofMonth', 'DayOfWeek', 'DepTime', 'UniqueCarrier', 'Origin', 'Dest', 'Distance', 'flight', 'hour', 'minute', 'summer']\n",
      "5-fold CV is : 0.8233 +/- 0.0055\n"
     ]
    },
    {
     "name": "stderr",
     "output_type": "stream",
     "text": [
      "\r",
      " 43%|███████████████████████████████████▌                                               | 3/7 [19:40<26:15, 394.00s/it]"
     ]
    },
    {
     "name": "stdout",
     "output_type": "stream",
     "text": [
      "adding feature autumn\n",
      "performing CV with features: ['Month', 'DayofMonth', 'DayOfWeek', 'DepTime', 'UniqueCarrier', 'Origin', 'Dest', 'Distance', 'flight', 'hour', 'minute', 'summer', 'autumn']\n",
      "5-fold CV is : 0.8231 +/- 0.0061\n"
     ]
    },
    {
     "name": "stderr",
     "output_type": "stream",
     "text": [
      "\r",
      " 57%|███████████████████████████████████████████████▍                                   | 4/7 [25:55<19:25, 388.53s/it]"
     ]
    },
    {
     "name": "stdout",
     "output_type": "stream",
     "text": [
      "adding feature winter\n",
      "performing CV with features: ['Month', 'DayofMonth', 'DayOfWeek', 'DepTime', 'UniqueCarrier', 'Origin', 'Dest', 'Distance', 'flight', 'hour', 'minute', 'summer', 'autumn', 'winter']\n",
      "5-fold CV is : 0.8238 +/- 0.0067\n"
     ]
    },
    {
     "name": "stderr",
     "output_type": "stream",
     "text": [
      "\r",
      " 71%|███████████████████████████████████████████████████████████▎                       | 5/7 [32:16<12:52, 386.24s/it]"
     ]
    },
    {
     "name": "stdout",
     "output_type": "stream",
     "text": [
      "adding feature spring\n",
      "performing CV with features: ['Month', 'DayofMonth', 'DayOfWeek', 'DepTime', 'UniqueCarrier', 'Origin', 'Dest', 'Distance', 'flight', 'hour', 'minute', 'summer', 'autumn', 'winter', 'spring']\n",
      "5-fold CV is : 0.8235 +/- 0.0061\n"
     ]
    },
    {
     "name": "stderr",
     "output_type": "stream",
     "text": [
      "\r",
      " 86%|███████████████████████████████████████████████████████████████████████▏           | 6/7 [38:29<06:22, 382.06s/it]"
     ]
    },
    {
     "name": "stdout",
     "output_type": "stream",
     "text": [
      "adding feature daytime\n",
      "performing CV with features: ['Month', 'DayofMonth', 'DayOfWeek', 'DepTime', 'UniqueCarrier', 'Origin', 'Dest', 'Distance', 'flight', 'hour', 'minute', 'summer', 'autumn', 'winter', 'spring', 'daytime']\n",
      "5-fold CV is : 0.8236 +/- 0.0056\n"
     ]
    },
    {
     "name": "stderr",
     "output_type": "stream",
     "text": [
      "100%|███████████████████████████████████████████████████████████████████████████████████| 7/7 [45:01<00:00, 385.20s/it]\n"
     ]
    },
    {
     "name": "stdout",
     "output_type": "stream",
     "text": [
      "Wall time: 45min 1s\n"
     ]
    }
   ],
   "source": [
    "%%time\n",
    "cv_scores = []\n",
    "\n",
    "features_to_use = former_feats[:]\n",
    "\n",
    "for new_feat in tqdm(new_feats):\n",
    "    print(f'adding feature {new_feat}')\n",
    "    \n",
    "    features_to_use += [new_feat]\n",
    "    print(f'performing CV with features: {features_to_use}')\n",
    "\n",
    "    current_cv_scores = cross_val_score(ctb, train_df[features_to_use].values, train_y, cv=skf, scoring='roc_auc', \n",
    "                fit_params={'cat_features': np.where(train_df[features_to_use].dtypes == 'category')[0]})\n",
    "    print('5-fold CV is : {} +/- {}'.format(current_cv_scores.mean().round(4), \n",
    "                                            current_cv_scores.std().round(4)))\n",
    "    cv_scores.append(current_cv_scores)\n",
    "    "
   ]
  },
  {
   "cell_type": "code",
   "execution_count": 17,
   "metadata": {},
   "outputs": [],
   "source": [
    "from matplotlib import pyplot as plt\n",
    "%config InlineBackend.figure_format='retina'"
   ]
  },
  {
   "cell_type": "code",
   "execution_count": 18,
   "metadata": {},
   "outputs": [],
   "source": [
    "mean_cv_scores = np.array(cv_scores).mean(axis=1)\n",
    "mean_cv_scores_minus_std = np.array(cv_scores).mean(axis=1) - np.array(cv_scores).std(axis=1)\n",
    "mean_cv_scores_plus_std = np.array(cv_scores).mean(axis=1) + np.array(cv_scores).std(axis=1)"
   ]
  },
  {
   "cell_type": "code",
   "execution_count": 19,
   "metadata": {},
   "outputs": [
    {
     "data": {
      "image/png": "[encoded data removed]",
      "text/plain": [
       "<Figure size 864x576 with 1 Axes>"
      ]
     },
     "metadata": {
      "image/png": {
       "height": 481,
       "width": 728
      },
      "needs_background": "light"
     },
     "output_type": "display_data"
    }
   ],
   "source": [
    "plt.figure(figsize=(12, 8))\n",
    "plt.plot(new_feats, mean_cv_scores, label='mean');\n",
    "plt.plot(new_feats, mean_cv_scores_minus_std, c='green', linestyle='dashed');\n",
    "plt.plot(new_feats, mean_cv_scores_plus_std, c='green', linestyle='dashed');\n",
    "plt.fill_between(new_feats, mean_cv_scores_minus_std, mean_cv_scores_plus_std,\n",
    "                 color='green', alpha=.1, label='std')\n",
    "plt.xlabel('new feature')\n",
    "plt.ylabel('CV score (mean +/- std)')\n",
    "plt.grid(True)\n",
    "plt.legend();"
   ]
  },
  {
   "cell_type": "markdown",
   "metadata": {},
   "source": [
    "**Now test predictions, again adding features one by one to former 9 ones**"
   ]
  },
  {
   "cell_type": "code",
   "execution_count": 20,
   "metadata": {},
   "outputs": [],
   "source": [
    "sample_sub = pd.read_csv(PATH_TO_DATA / 'sample_submission.csv',\n",
    "                         index_col='id')"
   ]
  },
  {
   "cell_type": "code",
   "execution_count": 21,
   "metadata": {},
   "outputs": [
    {
     "name": "stderr",
     "output_type": "stream",
     "text": [
      "\r",
      "0it [00:00, ?it/s]"
     ]
    },
    {
     "name": "stdout",
     "output_type": "stream",
     "text": [
      "adding feature hour\n",
      "Training with features: ['Month', 'DayofMonth', 'DayOfWeek', 'DepTime', 'UniqueCarrier', 'Origin', 'Dest', 'Distance', 'flight', 'hour']\n",
      "Wrote predictions to ctb_pred_old_feats_and_1_new_ones.csv\n"
     ]
    },
    {
     "name": "stderr",
     "output_type": "stream",
     "text": [
      "\r",
      "1it [01:21, 81.93s/it]"
     ]
    },
    {
     "name": "stdout",
     "output_type": "stream",
     "text": [
      "adding feature minute\n",
      "Training with features: ['Month', 'DayofMonth', 'DayOfWeek', 'DepTime', 'UniqueCarrier', 'Origin', 'Dest', 'Distance', 'flight', 'hour', 'minute']\n",
      "Wrote predictions to ctb_pred_old_feats_and_2_new_ones.csv\n"
     ]
    },
    {
     "name": "stderr",
     "output_type": "stream",
     "text": [
      "\r",
      "2it [02:45, 82.51s/it]"
     ]
    },
    {
     "name": "stdout",
     "output_type": "stream",
     "text": [
      "adding feature summer\n",
      "Training with features: ['Month', 'DayofMonth', 'DayOfWeek', 'DepTime', 'UniqueCarrier', 'Origin', 'Dest', 'Distance', 'flight', 'hour', 'minute', 'summer']\n",
      "Wrote predictions to ctb_pred_old_feats_and_3_new_ones.csv\n"
     ]
    },
    {
     "name": "stderr",
     "output_type": "stream",
     "text": [
      "\r",
      "3it [04:10, 83.04s/it]"
     ]
    },
    {
     "name": "stdout",
     "output_type": "stream",
     "text": [
      "adding feature autumn\n",
      "Training with features: ['Month', 'DayofMonth', 'DayOfWeek', 'DepTime', 'UniqueCarrier', 'Origin', 'Dest', 'Distance', 'flight', 'hour', 'minute', 'summer', 'autumn']\n",
      "Wrote predictions to ctb_pred_old_feats_and_4_new_ones.csv\n"
     ]
    },
    {
     "name": "stderr",
     "output_type": "stream",
     "text": [
      "\r",
      "4it [05:35, 83.72s/it]"
     ]
    },
    {
     "name": "stdout",
     "output_type": "stream",
     "text": [
      "adding feature winter\n",
      "Training with features: ['Month', 'DayofMonth', 'DayOfWeek', 'DepTime', 'UniqueCarrier', 'Origin', 'Dest', 'Distance', 'flight', 'hour', 'minute', 'summer', 'autumn', 'winter']\n",
      "Wrote predictions to ctb_pred_old_feats_and_5_new_ones.csv\n"
     ]
    },
    {
     "name": "stderr",
     "output_type": "stream",
     "text": [
      "\r",
      "5it [06:59, 83.83s/it]"
     ]
    },
    {
     "name": "stdout",
     "output_type": "stream",
     "text": [
      "adding feature spring\n",
      "Training with features: ['Month', 'DayofMonth', 'DayOfWeek', 'DepTime', 'UniqueCarrier', 'Origin', 'Dest', 'Distance', 'flight', 'hour', 'minute', 'summer', 'autumn', 'winter', 'spring']\n",
      "Wrote predictions to ctb_pred_old_feats_and_6_new_ones.csv\n"
     ]
    },
    {
     "name": "stderr",
     "output_type": "stream",
     "text": [
      "\r",
      "6it [08:24, 84.05s/it]"
     ]
    },
    {
     "name": "stdout",
     "output_type": "stream",
     "text": [
      "adding feature daytime\n",
      "Training with features: ['Month', 'DayofMonth', 'DayOfWeek', 'DepTime', 'UniqueCarrier', 'Origin', 'Dest', 'Distance', 'flight', 'hour', 'minute', 'summer', 'autumn', 'winter', 'spring', 'daytime']\n",
      "Wrote predictions to ctb_pred_old_feats_and_7_new_ones.csv\n"
     ]
    },
    {
     "name": "stderr",
     "output_type": "stream",
     "text": [
      "7it [09:52, 85.52s/it]\n"
     ]
    },
    {
     "name": "stdout",
     "output_type": "stream",
     "text": [
      "Wall time: 9min 52s\n"
     ]
    }
   ],
   "source": [
    "%%time\n",
    "features_to_use = former_feats[:]\n",
    "\n",
    "for i, new_feat in tqdm(enumerate(new_feats)):\n",
    "    print(f'adding feature {new_feat}')\n",
    "    \n",
    "    features_to_use += [new_feat]\n",
    "    \n",
    "    print(f'Training with features: {features_to_use}')\n",
    "    \n",
    "    cat_feat_idx = np.where(train_df[features_to_use].dtypes == 'category')[0]\n",
    "    \n",
    "    ctb.fit(train_df[features_to_use].values, train_y,cat_features=cat_feat_idx)\n",
    "    ctb_test_pred = ctb.predict_proba(test_df[features_to_use].values)[:, 1]\n",
    "    \n",
    "    sample_sub['dep_delayed_15min'] = ctb_test_pred\n",
    "    sub_file_name = f'ctb_pred_old_feats_and_{i+1}_new_ones.csv'\n",
    "    sample_sub.to_csv(sub_file_name)\n",
    "    \n",
    "    print(f'Wrote predictions to {sub_file_name}')"
   ]
  },
  {
   "cell_type": "markdown",
   "metadata": {},
   "source": [
    "**Analyzing CV & LB scores**"
   ]
  },
  {
   "cell_type": "markdown",
   "metadata": {},
   "source": [
    "|          | Old feature set | +hour   | +minute | +summer | +autumn | +winter | +spring | +daytime |\n",
    "|----------|-----------------|---------|---------|---------|---------|---------|---------|----------|\n",
    "| Mean CV score | 0.765         | 0.789  | 0.812  | 0.821  | 0.82  | 0.822   | 0.821  | 0.821   |\n",
    "| LB score | 0.73496         | 0.74505 | 0.76007 | 0.76136 | 0.76200 | 0.76014 | 0.76093 | 0.76082  |\n",
    "\n",
    "\n",
    "\n"
   ]
  },
  {
   "cell_type": "markdown",
   "metadata": {},
   "source": [
    "CV scores have standard deviation from 0.001 to 0.003 (see results above), i.e mean CV scores can be reported with precision up to 3 decimals. Also, results might differ a bit from run to run. "
   ]
  },
  {
   "cell_type": "code",
   "execution_count": 22,
   "metadata": {},
   "outputs": [],
   "source": [
    "result_df = pd.DataFrame({'mean_cv_score': [0.765, 0.789, 0.82, 0.821, 0.82, 0.822, 0.821, 0.821],\n",
    "                          'lb_score':      [0.73496, 0.74505, 0.76007, 0.76136, 0.76200, 0.76014, 0.76093, 0.76082 ]})"
   ]
  },
  {
   "cell_type": "code",
   "execution_count": 23,
   "metadata": {},
   "outputs": [
    {
     "data": {
      "text/html": [
       "<div>\n",
       "<style scoped>\n",
       "    .dataframe tbody tr th:only-of-type {\n",
       "        vertical-align: middle;\n",
       "    }\n",
       "\n",
       "    .dataframe tbody tr th {\n",
       "        vertical-align: top;\n",
       "    }\n",
       "\n",
       "    .dataframe thead th {\n",
       "        text-align: right;\n",
       "    }\n",
       "</style>\n",
       "<table border=\"1\" class=\"dataframe\">\n",
       "  <thead>\n",
       "    <tr style=\"text-align: right;\">\n",
       "      <th></th>\n",
       "      <th>mean_cv_score</th>\n",
       "      <th>lb_score</th>\n",
       "    </tr>\n",
       "  </thead>\n",
       "  <tbody>\n",
       "    <tr>\n",
       "      <th>mean_cv_score</th>\n",
       "      <td>1.000000</td>\n",
       "      <td>0.996372</td>\n",
       "    </tr>\n",
       "    <tr>\n",
       "      <th>lb_score</th>\n",
       "      <td>0.996372</td>\n",
       "      <td>1.000000</td>\n",
       "    </tr>\n",
       "  </tbody>\n",
       "</table>\n",
       "</div>"
      ],
      "text/plain": [
       "               mean_cv_score  lb_score\n",
       "mean_cv_score       1.000000  0.996372\n",
       "lb_score            0.996372  1.000000"
      ]
     },
     "execution_count": 23,
     "metadata": {},
     "output_type": "execute_result"
    }
   ],
   "source": [
    "result_df.corr()"
   ]
  },
  {
   "cell_type": "markdown",
   "metadata": {},
   "source": [
    "We see an almost perfect correlation between cross-validation and leaderboard scores. That means that cross-validation is set-up fine."
   ]
  }
 ],
 "metadata": {
  "kernelspec": {
   "display_name": "Python 3",
   "language": "python",
   "name": "python3"
  },
  "language_info": {
   "codemirror_mode": {
    "name": "ipython",
    "version": 3
   },
   "file_extension": ".py",
   "mimetype": "text/x-python",
   "name": "python",
   "nbconvert_exporter": "python",
   "pygments_lexer": "ipython3",
   "version": "3.7.2"
  },
  "toc": {
   "base_numbering": 1,
   "nav_menu": {},
   "number_sections": true,
   "sideBar": true,
   "skip_h1_title": false,
   "title_cell": "Table of Contents",
   "title_sidebar": "Contents",
   "toc_cell": false,
   "toc_position": {},
   "toc_section_display": true,
   "toc_window_display": true
  },
  "varInspector": {
   "cols": {
    "lenName": 16,
    "lenType": 16,
    "lenVar": 40
   },
   "kernels_config": {
    "python": {
     "delete_cmd_postfix": "",
     "delete_cmd_prefix": "del ",
     "library": "var_list.py",
     "varRefreshCmd": "print(var_dic_list())"
    },
    "r": {
     "delete_cmd_postfix": ") ",
     "delete_cmd_prefix": "rm(",
     "library": "var_list.r",
     "varRefreshCmd": "cat(var_dic_list()) "
    }
   },
   "types_to_exclude": [
    "module",
    "function",
    "builtin_function_or_method",
    "instance",
    "_Feature"
   ],
   "window_display": false
  }
 },
 "nbformat": 4,
 "nbformat_minor": 1
}

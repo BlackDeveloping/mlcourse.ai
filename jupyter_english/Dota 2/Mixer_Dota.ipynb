{
 "cells": [
  {
   "cell_type": "markdown",
   "metadata": {},
   "source": [
    "# Kaggle inclass competition to predict DOTA2 match results\n",
    "https://www.kaggle.com/c/mlcourse-dota2-win-prediction"
   ]
  },
  {
   "cell_type": "code",
   "execution_count": null,
   "metadata": {},
   "outputs": [],
   "source": [
    "import pandas as pd "
   ]
  },
  {
   "cell_type": "markdown",
   "metadata": {},
   "source": [
    "# Take the public solution with LGBM, public score 0.83919\n",
    "https://www.kaggle.com/artgor/dota-eda-fe-and-models"
   ]
  },
  {
   "cell_type": "code",
   "execution_count": null,
   "metadata": {},
   "outputs": [],
   "source": [
    "import os\n",
    "print(os.listdir(\"../input/dota2-solutions\"))\n",
    "submission_best = pd.read_csv(\"../input/dota2-solutions/submission_best.csv\") # I have just renamed csv file\n",
    "submission_best.head()"
   ]
  },
  {
   "cell_type": "markdown",
   "metadata": {},
   "source": [
    "# Take the another public solution, different features + LGBM, public score 0.83564\n",
    "https://www.kaggle.com/clair14/gold-is-the-reason-teams-and-bayes-for-lightgbm"
   ]
  },
  {
   "cell_type": "code",
   "execution_count": null,
   "metadata": {},
   "outputs": [],
   "source": [
    "submission_gold = pd.read_csv(\"../input/dota2-solutions/submission_gold.csv\") # I have just renamed csv file\n",
    "submission_gold.head()"
   ]
  },
  {
   "cell_type": "markdown",
   "metadata": {},
   "source": [
    "# Take the 3rd best public solution, different features + Neural net , public score 0.83054\n",
    "https://www.kaggle.com/shokhan/neural-network-to-predict-dota-2-winner"
   ]
  },
  {
   "cell_type": "code",
   "execution_count": null,
   "metadata": {},
   "outputs": [],
   "source": [
    "submission_nn = pd.read_csv(\"../input/dota2-solutions/submission_2019-04-03_19-04-57.csv\") # I have just renamed csv file\n",
    "submission_nn.head()"
   ]
  },
  {
   "cell_type": "markdown",
   "metadata": {},
   "source": [
    "# For all 3 solutions I renamed csv and make a simple weighted average of final predictions with 4:3:3 proportion.\n",
    "That give 0.84432 on public leaderboard and also advancement on private, basically for free!\n",
    "You did not even need to run the kernel, just download the csv."
   ]
  },
  {
   "cell_type": "code",
   "execution_count": null,
   "metadata": {},
   "outputs": [],
   "source": [
    "submission = pd.DataFrame()\n",
    "submission['match_id_hash'] = submission_best['match_id_hash']\n",
    "submission['radiant_win_prob'] =  0.4*submission_best['radiant_win_prob']+ \\\n",
    "                                  0.3*submission_gold['radiant_win_prob']+ \\\n",
    "                                  0.3*submission_nn['radiant_win_prob']\n",
    "\n",
    "submission.to_csv('submission.csv',index=False)\n",
    "submission.head()"
   ]
  },
  {
   "cell_type": "markdown",
   "metadata": {},
   "source": [
    "# That's it. Enjoy and please vote up."
   ]
  },
  {
   "cell_type": "code",
   "execution_count": null,
   "metadata": {},
   "outputs": [],
   "source": []
  }
 ],
 "metadata": {
  "kernelspec": {
   "display_name": "Python 3",
   "language": "python",
   "name": "python3"
  },
  "language_info": {
   "codemirror_mode": {
    "name": "ipython",
    "version": 3
   },
   "file_extension": ".py",
   "mimetype": "text/x-python",
   "name": "python",
   "nbconvert_exporter": "python",
   "pygments_lexer": "ipython3",
   "version": "3.7.2"
  },
  "toc": {
   "base_numbering": 1,
   "nav_menu": {},
   "number_sections": true,
   "sideBar": true,
   "skip_h1_title": false,
   "title_cell": "Table of Contents",
   "title_sidebar": "Contents",
   "toc_cell": false,
   "toc_position": {},
   "toc_section_display": true,
   "toc_window_display": true
  }
 },
 "nbformat": 4,
 "nbformat_minor": 1
}

{
 "cells": [
  {
   "cell_type": "markdown",
   "metadata": {},
   "source": [
    "### packages"
   ]
  },
  {
   "cell_type": "code",
   "execution_count": 2,
   "metadata": {
    "ExecuteTime": {
     "end_time": "2019-11-13T21:07:32.423133Z",
     "start_time": "2019-11-13T21:07:32.417687Z"
    }
   },
   "outputs": [],
   "source": [
    "import warnings\n",
    "warnings.filterwarnings('ignore')\n",
    "\n",
    "import numpy as np\n",
    "import pandas as pd\n",
    "from catboost import CatBoostClassifier\n",
    "from sklearn.metrics import accuracy_score\n",
    "from sklearn.model_selection import StratifiedKFold\n",
    "from sklearn.grid_search import ParameterGrid\n",
    "from sklearn.model_selection import train_test_split\n",
    "from itertools import product, chain\n",
    "from tqdm import tqdm"
   ]
  },
  {
   "cell_type": "markdown",
   "metadata": {},
   "source": [
    "### help funcs"
   ]
  },
  {
   "cell_type": "code",
   "execution_count": 1,
   "metadata": {
    "ExecuteTime": {
     "end_time": "2019-11-14T06:32:57.019011Z",
     "start_time": "2019-11-14T06:32:57.007258Z"
    }
   },
   "outputs": [],
   "source": [
    "RANDOM_STATE = 13\n",
    "\n",
    "def get_x(df):\n",
    "    df['Cabin'].fillna('Unknown', inplace=True)\n",
    "    df['Embarked'].fillna('Unknown', inplace=True)\n",
    "    df['Age'].fillna(-1, inplace=True)\n",
    "    df['Fare'].fillna(df['Fare'].median(), inplace=True)\n",
    "    df['Title'] = df.Name.str.extract(' ([A-Za-z]+)\\.', expand=False)\n",
    "    df['Title'] = df['Title'].replace(['Lady', 'Countess','Capt', 'Col',\\\n",
    " \t'Don', 'Dr', 'Major', 'Rev', 'Sir', 'Jonkheer', 'Dona'], 'Rare')\n",
    "\n",
    "    df['Title'] = df['Title'].replace('Mlle', 'Miss')\n",
    "    df['Title'] = df['Title'].replace('Ms', 'Miss')\n",
    "    df['Title'] = df['Title'].replace('Mme', 'Mrs')\n",
    "    \n",
    "    df['Title'].fillna('na', inplace=True)\n",
    "    df = df.drop(['Name', 'PassengerId', 'Cabin', 'Embarked'], axis=1)\n",
    "    \n",
    "    df['FamilySize'] = df['SibSp'] + df['Parch'] + 1\n",
    "    df['IsAlone'] = 0\n",
    "    df.loc[df['FamilySize'] == 1, 'IsAlone'] = 1\n",
    "    \n",
    "    df = df.drop(['Ticket'], axis=1)\n",
    "    columns = list(df.columns)\n",
    "    if 'Survived' in columns:\n",
    "        columns.remove('Survived')\n",
    "    cat_features = np.where(df[columns].dtypes != np.float)[0]\n",
    "    return df[columns].values, cat_features\n",
    "\n",
    "def get_xy(df):\n",
    "    X, _ = get_x(df)\n",
    "    y = df['Survived']\n",
    "    return X, y"
   ]
  },
  {
   "cell_type": "markdown",
   "metadata": {
    "ExecuteTime": {
     "end_time": "2019-11-14T06:34:13.519777Z",
     "start_time": "2019-11-14T06:34:13.513529Z"
    }
   },
   "source": [
    "### main cross-val fucntion. return accuracy"
   ]
  },
  {
   "cell_type": "code",
   "execution_count": 4,
   "metadata": {
    "ExecuteTime": {
     "end_time": "2019-11-13T21:07:42.418921Z",
     "start_time": "2019-11-13T21:07:42.410923Z"
    }
   },
   "outputs": [],
   "source": [
    "def cross_val(X, y, X_test, param, cat_features, n_splits=3):\n",
    "    skf = StratifiedKFold(n_splits=n_splits, shuffle=True, random_state=RANDOM_STATE)\n",
    "    \n",
    "    acc = []\n",
    "    predict = None\n",
    "    \n",
    "    for tr_ind, val_ind in skf.split(X, y):\n",
    "        X_train = X[tr_ind]\n",
    "        y_train = y[tr_ind]\n",
    "        \n",
    "        X_valid = X[val_ind]\n",
    "        y_valid = y[val_ind]\n",
    "        \n",
    "        clf = CatBoostClassifier(iterations=500, loss_function = param['loss_function'],\n",
    "                                depth=param['depth'],\n",
    "                                l2_leaf_reg = param['l2_leaf_reg'],\n",
    "                                eval_metric = 'Accuracy',\n",
    "                                leaf_estimation_iterations = 10,\n",
    "                                use_best_model=True,\n",
    "                                logging_level='Silent'\n",
    "        )\n",
    "        \n",
    "        clf.fit(X_train, \n",
    "                y_train,\n",
    "                cat_features=cat_features,\n",
    "                eval_set=(X_valid, y_valid)\n",
    "        )\n",
    "        \n",
    "        y_pred = clf.predict(X_valid)\n",
    "        accuracy = accuracy_score(y_valid, y_pred)\n",
    "        acc.append(accuracy)\n",
    "    return sum(acc)/n_splits"
   ]
  },
  {
   "cell_type": "markdown",
   "metadata": {},
   "source": [
    "### main function for search best params"
   ]
  },
  {
   "cell_type": "code",
   "execution_count": 16,
   "metadata": {
    "ExecuteTime": {
     "end_time": "2019-11-13T21:35:57.066316Z",
     "start_time": "2019-11-13T21:35:57.059323Z"
    }
   },
   "outputs": [],
   "source": [
    "def catboost_find_params_GridSearchCV(X, y, X_test, params, cat_features, n_splits=5):\n",
    "    ps = {'acc':0,\n",
    "          'param': []\n",
    "    }\n",
    "    \n",
    "    predict=None\n",
    "    \n",
    "    for prms in tqdm(list(ParameterGrid(params)), ascii=True, desc='Params Tuning:'):\n",
    "                          \n",
    "        acc = cross_val(X, y, X_test, prms, cat_features, n_splits=5)\n",
    "\n",
    "        if acc>ps['acc']:\n",
    "            ps['acc'] = acc\n",
    "            ps['param'] = prms\n",
    "    print('Acc: '+str(ps['acc']))\n",
    "    print('Params: '+str(ps['param']))\n",
    "    \n",
    "    return ps['param']"
   ]
  },
  {
   "cell_type": "markdown",
   "metadata": {},
   "source": [
    "### data reading"
   ]
  },
  {
   "cell_type": "code",
   "execution_count": 6,
   "metadata": {
    "ExecuteTime": {
     "end_time": "2019-11-13T21:07:54.097810Z",
     "start_time": "2019-11-13T21:07:53.978742Z"
    }
   },
   "outputs": [
    {
     "data": {
      "text/html": [
       "<div>\n",
       "<style scoped>\n",
       "    .dataframe tbody tr th:only-of-type {\n",
       "        vertical-align: middle;\n",
       "    }\n",
       "\n",
       "    .dataframe tbody tr th {\n",
       "        vertical-align: top;\n",
       "    }\n",
       "\n",
       "    .dataframe thead th {\n",
       "        text-align: right;\n",
       "    }\n",
       "</style>\n",
       "<table border=\"1\" class=\"dataframe\">\n",
       "  <thead>\n",
       "    <tr style=\"text-align: right;\">\n",
       "      <th></th>\n",
       "      <th>PassengerId</th>\n",
       "      <th>Pclass</th>\n",
       "      <th>Name</th>\n",
       "      <th>Sex</th>\n",
       "      <th>Age</th>\n",
       "      <th>SibSp</th>\n",
       "      <th>Parch</th>\n",
       "      <th>Ticket</th>\n",
       "      <th>Fare</th>\n",
       "      <th>Cabin</th>\n",
       "      <th>Embarked</th>\n",
       "    </tr>\n",
       "  </thead>\n",
       "  <tbody>\n",
       "    <tr>\n",
       "      <th>0</th>\n",
       "      <td>892</td>\n",
       "      <td>3</td>\n",
       "      <td>Kelly, Mr. James</td>\n",
       "      <td>male</td>\n",
       "      <td>34.5</td>\n",
       "      <td>0</td>\n",
       "      <td>0</td>\n",
       "      <td>330911</td>\n",
       "      <td>7.8292</td>\n",
       "      <td>NaN</td>\n",
       "      <td>Q</td>\n",
       "    </tr>\n",
       "    <tr>\n",
       "      <th>1</th>\n",
       "      <td>893</td>\n",
       "      <td>3</td>\n",
       "      <td>Wilkes, Mrs. James (Ellen Needs)</td>\n",
       "      <td>female</td>\n",
       "      <td>47.0</td>\n",
       "      <td>1</td>\n",
       "      <td>0</td>\n",
       "      <td>363272</td>\n",
       "      <td>7.0000</td>\n",
       "      <td>NaN</td>\n",
       "      <td>S</td>\n",
       "    </tr>\n",
       "    <tr>\n",
       "      <th>2</th>\n",
       "      <td>894</td>\n",
       "      <td>2</td>\n",
       "      <td>Myles, Mr. Thomas Francis</td>\n",
       "      <td>male</td>\n",
       "      <td>62.0</td>\n",
       "      <td>0</td>\n",
       "      <td>0</td>\n",
       "      <td>240276</td>\n",
       "      <td>9.6875</td>\n",
       "      <td>NaN</td>\n",
       "      <td>Q</td>\n",
       "    </tr>\n",
       "    <tr>\n",
       "      <th>3</th>\n",
       "      <td>895</td>\n",
       "      <td>3</td>\n",
       "      <td>Wirz, Mr. Albert</td>\n",
       "      <td>male</td>\n",
       "      <td>27.0</td>\n",
       "      <td>0</td>\n",
       "      <td>0</td>\n",
       "      <td>315154</td>\n",
       "      <td>8.6625</td>\n",
       "      <td>NaN</td>\n",
       "      <td>S</td>\n",
       "    </tr>\n",
       "    <tr>\n",
       "      <th>4</th>\n",
       "      <td>896</td>\n",
       "      <td>3</td>\n",
       "      <td>Hirvonen, Mrs. Alexander (Helga E Lindqvist)</td>\n",
       "      <td>female</td>\n",
       "      <td>22.0</td>\n",
       "      <td>1</td>\n",
       "      <td>1</td>\n",
       "      <td>3101298</td>\n",
       "      <td>12.2875</td>\n",
       "      <td>NaN</td>\n",
       "      <td>S</td>\n",
       "    </tr>\n",
       "  </tbody>\n",
       "</table>\n",
       "</div>"
      ],
      "text/plain": [
       "   PassengerId  Pclass                                          Name     Sex  \\\n",
       "0          892       3                              Kelly, Mr. James    male   \n",
       "1          893       3              Wilkes, Mrs. James (Ellen Needs)  female   \n",
       "2          894       2                     Myles, Mr. Thomas Francis    male   \n",
       "3          895       3                              Wirz, Mr. Albert    male   \n",
       "4          896       3  Hirvonen, Mrs. Alexander (Helga E Lindqvist)  female   \n",
       "\n",
       "    Age  SibSp  Parch   Ticket     Fare Cabin Embarked  \n",
       "0  34.5      0      0   330911   7.8292   NaN        Q  \n",
       "1  47.0      1      0   363272   7.0000   NaN        S  \n",
       "2  62.0      0      0   240276   9.6875   NaN        Q  \n",
       "3  27.0      0      0   315154   8.6625   NaN        S  \n",
       "4  22.0      1      1  3101298  12.2875   NaN        S  "
      ]
     },
     "execution_count": 6,
     "metadata": {},
     "output_type": "execute_result"
    }
   ],
   "source": [
    "train = pd.read_csv(\"./InputTitanic/train.csv\")\n",
    "test = pd.read_csv(\"./InputTitanic/test.csv\")\n",
    "test.head()"
   ]
  },
  {
   "cell_type": "code",
   "execution_count": 9,
   "metadata": {
    "ExecuteTime": {
     "end_time": "2019-11-13T21:22:00.652573Z",
     "start_time": "2019-11-13T21:22:00.613151Z"
    }
   },
   "outputs": [],
   "source": [
    "X_train, y_train = get_xy(train)\n",
    "X_test, cat_features = get_x(test)"
   ]
  },
  {
   "cell_type": "markdown",
   "metadata": {},
   "source": [
    "### boosting params space"
   ]
  },
  {
   "cell_type": "code",
   "execution_count": 14,
   "metadata": {
    "ExecuteTime": {
     "end_time": "2019-11-13T21:35:37.904835Z",
     "start_time": "2019-11-13T21:35:37.899357Z"
    }
   },
   "outputs": [],
   "source": [
    "params = {'depth':[3, 5, 6, 8, 10],\n",
    "          'bagging_temperature': [0, 0.1, 1, 10, 100],\n",
    "          'loss_function': ['Logloss', 'CrossEntropy'],\n",
    "          'l2_leaf_reg': [0.01, 0.1, 1, 10, 100],\n",
    "          'border_count':[12, 36, 128],\n",
    "          'grow_policy': ['SymmetricTree', 'Depthwise','Lossguide']\n",
    "    }"
   ]
  },
  {
   "cell_type": "markdown",
   "metadata": {},
   "source": [
    "### start boosting"
   ]
  },
  {
   "cell_type": "code",
   "execution_count": null,
   "metadata": {
    "ExecuteTime": {
     "start_time": "2019-11-13T21:36:02.253Z"
    }
   },
   "outputs": [
    {
     "name": "stderr",
     "output_type": "stream",
     "text": [
      "\n",
      "Params Tuning::   0%|                                                                         | 0/2250 [00:00<?, ?it/s]\n",
      "Params Tuning::   0%|                                                              | 1/2250 [00:43<27:23:45, 43.85s/it]\n",
      "Params Tuning::   0%|                                                              | 2/2250 [01:25<26:53:25, 43.06s/it]\n",
      "Params Tuning::   0%|                                                              | 3/2250 [02:05<26:27:17, 42.38s/it]\n",
      "Params Tuning::   0%|1                                                             | 4/2250 [02:48<26:33:53, 42.58s/it]\n",
      "Params Tuning::   0%|1                                                             | 5/2250 [03:31<26:34:38, 42.62s/it]\n",
      "Params Tuning::   0%|1                                                             | 6/2250 [04:12<26:10:10, 41.98s/it]\n",
      "Params Tuning::   0%|1                                                             | 7/2250 [04:55<26:23:08, 42.35s/it]\n",
      "Params Tuning::   0%|2                                                             | 8/2250 [05:37<26:24:22, 42.40s/it]\n",
      "Params Tuning::   0%|2                                                             | 9/2250 [06:21<26:35:19, 42.71s/it]\n",
      "Params Tuning::   0%|2                                                            | 10/2250 [07:05<26:47:10, 43.05s/it]\n",
      "Params Tuning::   0%|2                                                            | 11/2250 [07:45<26:13:27, 42.16s/it]\n",
      "Params Tuning::   1%|3                                                            | 12/2250 [08:26<26:02:34, 41.89s/it]\n",
      "Params Tuning::   1%|3                                                            | 13/2250 [09:07<25:56:29, 41.75s/it]\n",
      "Params Tuning::   1%|3                                                            | 14/2250 [09:52<26:23:54, 42.50s/it]\n",
      "Params Tuning::   1%|4                                                            | 15/2250 [10:35<26:28:57, 42.66s/it]\n",
      "Params Tuning::   1%|4                                                            | 16/2250 [11:16<26:11:20, 42.20s/it]\n",
      "Params Tuning::   1%|4                                                            | 17/2250 [12:00<26:34:12, 42.84s/it]\n",
      "Params Tuning::   1%|4                                                            | 18/2250 [12:45<26:51:32, 43.32s/it]\n",
      "Params Tuning::   1%|5                                                            | 19/2250 [13:29<27:05:42, 43.72s/it]\n",
      "Params Tuning::   1%|5                                                            | 20/2250 [14:15<27:22:18, 44.19s/it]\n",
      "Params Tuning::   1%|5                                                            | 21/2250 [14:57<27:03:32, 43.70s/it]\n",
      "Params Tuning::   1%|5                                                            | 22/2250 [15:41<27:03:31, 43.72s/it]"
     ]
    }
   ],
   "source": [
    "best_params = catboost_find_params_GridSearchCV(X_train, y_train, X_test, params, cat_features)"
   ]
  },
  {
   "cell_type": "markdown",
   "metadata": {},
   "source": [
    "### save params"
   ]
  },
  {
   "cell_type": "code",
   "execution_count": null,
   "metadata": {},
   "outputs": [],
   "source": [
    "best_params"
   ]
  },
  {
   "cell_type": "code",
   "execution_count": null,
   "metadata": {},
   "outputs": [],
   "source": []
  },
  {
   "cell_type": "code",
   "execution_count": null,
   "metadata": {},
   "outputs": [],
   "source": [
    "clf = CatBoostClassifier(iterations=2500,\n",
    "                            loss_function = param['loss_function'],\n",
    "                            depth=param['depth'],\n",
    "                            l2_leaf_reg = param['l2_leaf_reg'],\n",
    "                            eval_metric = 'Accuracy',\n",
    "                            leaf_estimation_iterations = 10,\n",
    "                            use_best_model=True\n",
    "    )\n",
    "    "
   ]
  },
  {
   "cell_type": "code",
   "execution_count": null,
   "metadata": {},
   "outputs": [],
   "source": [
    "X_train, X_valid, y_train, y_valid = train_test_split(X_train,\n",
    "                                                        y_train, \n",
    "                                                        shuffle=True,\n",
    "                                                        random_state=RANDOM_STATE,\n",
    "                                                        train_size=0.8,\n",
    "                                                        stratify=y_train\n",
    "    ) "
   ]
  },
  {
   "cell_type": "code",
   "execution_count": null,
   "metadata": {},
   "outputs": [],
   "source": [
    "clf.fit(X_train, \n",
    "            y_train,\n",
    "            cat_features=cat_features,\n",
    "            logging_level='Silent',\n",
    "            eval_set=(X_valid, y_valid)\n",
    "    )"
   ]
  },
  {
   "cell_type": "code",
   "execution_count": null,
   "metadata": {},
   "outputs": [],
   "source": [
    "sub = pd.DataFrame({'PassengerId':test['PassengerId'],'Survived':np.array(clf.predict(X_test)).astype(int)})\n",
    "sub.to_csv('cat_sub_1.csv',index=False)"
   ]
  }
 ],
 "metadata": {
  "kernelspec": {
   "display_name": "Python 3",
   "language": "python",
   "name": "python3"
  },
  "language_info": {
   "codemirror_mode": {
    "name": "ipython",
    "version": 3
   },
   "file_extension": ".py",
   "mimetype": "text/x-python",
   "name": "python",
   "nbconvert_exporter": "python",
   "pygments_lexer": "ipython3",
   "version": "3.7.2"
  },
  "toc": {
   "base_numbering": 1,
   "nav_menu": {},
   "number_sections": true,
   "sideBar": true,
   "skip_h1_title": false,
   "title_cell": "Table of Contents",
   "title_sidebar": "Contents",
   "toc_cell": false,
   "toc_position": {},
   "toc_section_display": true,
   "toc_window_display": true
  },
  "varInspector": {
   "cols": {
    "lenName": 16,
    "lenType": 16,
    "lenVar": 40
   },
   "kernels_config": {
    "python": {
     "delete_cmd_postfix": "",
     "delete_cmd_prefix": "del ",
     "library": "var_list.py",
     "varRefreshCmd": "print(var_dic_list())"
    },
    "r": {
     "delete_cmd_postfix": ") ",
     "delete_cmd_prefix": "rm(",
     "library": "var_list.r",
     "varRefreshCmd": "cat(var_dic_list()) "
    }
   },
   "types_to_exclude": [
    "module",
    "function",
    "builtin_function_or_method",
    "instance",
    "_Feature"
   ],
   "window_display": false
  }
 },
 "nbformat": 4,
 "nbformat_minor": 2
}
